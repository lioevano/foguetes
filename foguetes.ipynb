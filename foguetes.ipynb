{
  "nbformat": 4,
  "nbformat_minor": 0,
  "metadata": {
    "colab": {
      "provenance": [],
      "authorship_tag": "ABX9TyPwQZ3Mb94IIecdcwwl685k",
      "include_colab_link": true
    },
    "kernelspec": {
      "name": "python3",
      "display_name": "Python 3"
    },
    "language_info": {
      "name": "python"
    }
  },
  "cells": [
    {
      "cell_type": "markdown",
      "metadata": {
        "id": "view-in-github",
        "colab_type": "text"
      },
      "source": [
        "<a href=\"https://colab.research.google.com/github/lioevano/foguetes/blob/main/foguetes.ipynb\" target=\"_parent\"><img src=\"https://colab.research.google.com/assets/colab-badge.svg\" alt=\"Open In Colab\"/></a>"
      ]
    },
    {
      "cell_type": "markdown",
      "source": [
        "# Introdução"
      ],
      "metadata": {
        "id": "0iXtx13--HMX"
      }
    },
    {
      "cell_type": "markdown",
      "source": [
        "Escolhi a base Space_Corrected.csv e responderei 10 perguntas com base em gráficos e suas interpretações:\n",
        "\n",
        "Sugeridas:\n",
        "1. Qual é o total de missões registradas?\n",
        "2. Quantas foram bem sucedidas?\n",
        "3. Custo das missões por ano?\n",
        "\n",
        "Para enriquecer a discussão, separei a análise em 2 principais períodos:\n",
        "- corrida espacial (1957 - 1975)\n",
        "- pós corrida espacial (1976 - atualmente)\n",
        "\n",
        "Acho importante trazer essa separação por alguns fatores relevantes que marcam diferenças entre os contextos. Dentre as questões que escolhi para analisar os dados também irei tentar buscar evidências que comprovem o que estou falando, ou seja, verificar de fato que a competitividade que marcou a corrida espacial influenciou variáveis e o comportamento delas\n",
        "\n",
        "\n",
        "\n",
        "Escolhidas:\n",
        "4.\n",
        "\n"
      ],
      "metadata": {
        "id": "S1Dgh9Go-FvD"
      }
    },
    {
      "cell_type": "code",
      "execution_count": null,
      "metadata": {
        "id": "9apIL0Vp9rto"
      },
      "outputs": [],
      "source": []
    }
  ]
}